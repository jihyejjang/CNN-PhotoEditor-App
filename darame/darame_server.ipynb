{
 "cells": [
  {
   "cell_type": "code",
   "execution_count": null,
   "metadata": {},
   "outputs": [
    {
     "name": "stdout",
     "output_type": "stream",
     "text": [
      "TCPServer Waiting for client on port 9999\n"
     ]
    }
   ],
   "source": [
    "#darame 어플 서버 \n",
    "#기능1: mosaic 할 사진 받기, composite할 전경/배경 사진 받기 (android->python)\n",
    "#기능2: image instance 결과 전송하기 (python -> android), 최종 결과 전송\n",
    "#기능3: 사용자가 터치한 좌표 받아오기 (android->python)\n",
    "\n",
    "from socket import *\n",
    "import socket\n",
    "import os\n",
    "import time\n",
    "import sys\n",
    "import base64\n",
    "import io\n",
    "from matplotlib import pyplot as plt\n",
    "import matplotlib.image as mpimg\n",
    "# import darame_mosaic_selected\n",
    "# import darame_instance_segmentation\n",
    "# import darame_composite_selected\n",
    "\n",
    "\n",
    "foreground_path = \"C:/Users/user/데이터 상생플러스 스터디/CNN-PhotoEditor-App/darame/img/foreground/\"\n",
    "\n",
    "background_path = \"C:/Users/user/데이터 상생플러스 스터디/CNN-PhotoEditor-App/darame/img/background/\"\n",
    "\n",
    "#서버 소켓 오픈\n",
    "server_socket = socket.socket(socket.AF_INET, socket.SOCK_STREAM)\n",
    "server_socket.bind((\"\", 9999))\n",
    "server_socket.listen(5)\n",
    "\n",
    "print(\"TCPServer Waiting for client on port 9999\")\n",
    "\n",
    "while True:\n",
    "\n",
    "    # 클라이언트 요청 대기중 .\n",
    "    client_socket, address = server_socket.accept()\n",
    "    # 연결 요청 성공\n",
    "    print(\"I got a connection from \", address)\n",
    "\n",
    "    data = None\n",
    "\n",
    "    # Data 수신\n",
    "    while True:\n",
    "        img_data = client_socket.recv(1024)\n",
    "        data = img_data\n",
    "        if img_data:\n",
    "            while img_data:\n",
    "                print(\"recving Img...\")\n",
    "                img_data = client_socket.recv(1024)\n",
    "                data += img_data\n",
    "            else:\n",
    "                break\n",
    "\n",
    "    # 받은 데이터 저장\n",
    "    # 이미지 파일 이름은 현재날짜/시간/분/초.jpg\n",
    "    #img_fileName = fileName()\n",
    "    img_file = open(foreground_path + \"mosaic.jpg\", \"wb\")\n",
    "    print(\"finish img recv\")\n",
    "    #print(sys.getsizeof(data))\n",
    "    print(data)\n",
    "    \n",
    "    i = base64.b64decode(data)\n",
    "    i = io.BytesIO(i)\n",
    "    i = mpimg.imread(i, format='JPG')\n",
    "\n",
    "    plt.imshow(i, interpolation='nearest')\n",
    "    plt.show()\n",
    "    img_file.write(i)\n",
    "    img_file.close()\n",
    "    \n",
    "    print(\"Finished \")\n",
    "\n",
    "\n",
    "\n",
    "\n",
    "client_socket.close()\n",
    "print(\"SOCKET closed... END\")\n"
   ]
  },
  {
   "cell_type": "code",
   "execution_count": null,
   "metadata": {},
   "outputs": [],
   "source": []
  }
 ],
 "metadata": {
  "kernelspec": {
   "display_name": "Python 3",
   "language": "python",
   "name": "python3"
  },
  "language_info": {
   "codemirror_mode": {
    "name": "ipython",
    "version": 3
   },
   "file_extension": ".py",
   "mimetype": "text/x-python",
   "name": "python",
   "nbconvert_exporter": "python",
   "pygments_lexer": "ipython3",
   "version": "3.7.6"
  }
 },
 "nbformat": 4,
 "nbformat_minor": 4
}
